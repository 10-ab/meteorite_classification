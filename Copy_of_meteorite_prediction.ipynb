{
  "nbformat": 4,
  "nbformat_minor": 0,
  "metadata": {
    "colab": {
      "provenance": []
    },
    "kernelspec": {
      "name": "python3",
      "display_name": "Python 3"
    },
    "language_info": {
      "name": "python"
    }
  },
  "cells": [
    {
      "cell_type": "code",
      "execution_count": null,
      "metadata": {
        "id": "maAVBY7e4qcI"
      },
      "outputs": [],
      "source": [
        "import pandas as pd\n",
        "import numpy as np\n",
        "import matplotlib.pyplot as plt\n",
        "import seaborn as sns\n",
        "from sklearn.model_selection import train_test_split, GridSearchCV\n",
        "from sklearn.ensemble import RandomForestClassifier\n",
        "from sklearn.metrics import classification_report, confusion_matrix, roc_auc_score\n",
        "from sklearn.preprocessing import StandardScaler\n",
        "from sklearn.cluster import KMeans\n",
        "from imblearn.over_sampling import SMOTE\n",
        "import joblib\n",
        "from xgboost import XGBClassifier"
      ]
    },
    {
      "cell_type": "code",
      "source": [
        "df=pd.read_csv('meteorite-landings.csv')\n",
        "print(\"Initial shape:\", df.shape)\n",
        "print(df.head())"
      ],
      "metadata": {
        "colab": {
          "base_uri": "https://localhost:8080/"
        },
        "id": "7GgUFFz_5Ypg",
        "outputId": "1a88a17c-659a-4eec-b06f-bc3dfd5b128f"
      },
      "execution_count": null,
      "outputs": [
        {
          "output_type": "stream",
          "name": "stdout",
          "text": [
            "Initial shape: (45716, 10)\n",
            "       name   id nametype     recclass      mass  fall    year    reclat  \\\n",
            "0    Aachen    1    Valid           L5      21.0  Fell  1880.0  50.77500   \n",
            "1    Aarhus    2    Valid           H6     720.0  Fell  1951.0  56.18333   \n",
            "2      Abee    6    Valid          EH4  107000.0  Fell  1952.0  54.21667   \n",
            "3  Acapulco   10    Valid  Acapulcoite    1914.0  Fell  1976.0  16.88333   \n",
            "4   Achiras  370    Valid           L6     780.0  Fell  1902.0 -33.16667   \n",
            "\n",
            "     reclong               GeoLocation  \n",
            "0    6.08333     (50.775000, 6.083330)  \n",
            "1   10.23333    (56.183330, 10.233330)  \n",
            "2 -113.00000  (54.216670, -113.000000)  \n",
            "3  -99.90000   (16.883330, -99.900000)  \n",
            "4  -64.95000  (-33.166670, -64.950000)  \n"
          ]
        }
      ]
    },
    {
      "cell_type": "code",
      "source": [
        "df = df.dropna(subset=['mass', 'year', 'reclat', 'reclong', 'fall'])  # remove missing values\n",
        "df['year'] = pd.to_datetime(df['year'], errors='coerce').dt.year\n",
        "df = df.dropna(subset=['year'])\n"
      ],
      "metadata": {
        "colab": {
          "base_uri": "https://localhost:8080/"
        },
        "id": "jlr0Bk6W-OVC",
        "outputId": "40cd9763-4585-4e4a-b269-4b4900694821"
      },
      "execution_count": null,
      "outputs": [
        {
          "output_type": "stream",
          "name": "stderr",
          "text": [
            "<ipython-input-8-3584752765>:2: SettingWithCopyWarning: \n",
            "A value is trying to be set on a copy of a slice from a DataFrame.\n",
            "Try using .loc[row_indexer,col_indexer] = value instead\n",
            "\n",
            "See the caveats in the documentation: https://pandas.pydata.org/pandas-docs/stable/user_guide/indexing.html#returning-a-view-versus-a-copy\n",
            "  df['year'] = pd.to_datetime(df['year'], errors='coerce').dt.year\n"
          ]
        }
      ]
    },
    {
      "cell_type": "code",
      "source": [
        "df = df[df['mass'] > 0]\n",
        "df = df[(df['reclat'].between(-90, 90)) & (df['reclong'].between(-180, 180))]\n",
        "df = df[df['mass'] < 1e6]  # remove extreme outliers\n",
        "print(\"Cleaned shape:\", df.shape)"
      ],
      "metadata": {
        "colab": {
          "base_uri": "https://localhost:8080/"
        },
        "id": "Uvw2pPAA5sOY",
        "outputId": "dd67e084-8586-4ef3-f487-c424d4185971"
      },
      "execution_count": null,
      "outputs": [
        {
          "output_type": "stream",
          "name": "stdout",
          "text": [
            "Cleaned shape: (38044, 10)\n"
          ]
        }
      ]
    },
    {
      "cell_type": "code",
      "source": [
        "df['log_mass'] = np.log1p(df['mass'])  # log transform of mass\n",
        "df['decade'] = (df['year'] // 10) * 10     # decade feature\n",
        "df['fall'] = df['fall'].apply(lambda x: 1 if x == 'Fell' else 0)  # target encoding"
      ],
      "metadata": {
        "id": "vE4vsJITDUud"
      },
      "execution_count": null,
      "outputs": []
    },
    {
      "cell_type": "code",
      "source": [
        "kmeans = KMeans(n_clusters=10, random_state=42)\n",
        "df['location_cluster'] = kmeans.fit_predict(df[['reclat', 'reclong']])"
      ],
      "metadata": {
        "id": "ay2ITNFPD8_1"
      },
      "execution_count": null,
      "outputs": []
    },
    {
      "cell_type": "code",
      "source": [
        "features = ['log_mass', 'year', 'decade', 'location_cluster']\n",
        "X = df[features]\n",
        "y = df['fall']"
      ],
      "metadata": {
        "id": "GBpkx_c_EDLU"
      },
      "execution_count": null,
      "outputs": []
    },
    {
      "cell_type": "code",
      "source": [
        "X_train, X_test, y_train, y_test = train_test_split(\n",
        "    X, y, test_size=0.2, stratify=y, random_state=42\n",
        ")"
      ],
      "metadata": {
        "id": "uLAg4vgVEOXa"
      },
      "execution_count": null,
      "outputs": []
    },
    {
      "cell_type": "code",
      "source": [
        "smote = SMOTE(random_state=42)\n",
        "X_train_bal, y_train_bal = smote.fit_resample(X_train, y_train)"
      ],
      "metadata": {
        "id": "sto8mWDfFkDP"
      },
      "execution_count": null,
      "outputs": []
    },
    {
      "cell_type": "code",
      "source": [
        "class_ratio=y.value_counts()[0] / y.value_counts()[1]\n",
        "\n",
        "param_grid = {\n",
        "    'n_estimators': [100, 200],\n",
        "    'max_depth': [3, 5, 7],\n",
        "    'learning_rate': [0.01, 0.1, 0.2],\n",
        "    'subsample': [0.8, 1.0],\n",
        "    'colsample_bytree': [0.8, 1.0]\n",
        "}\n",
        "\n",
        "xgb = XGBClassifier(\n",
        "    scale_pos_weight=class_ratio,\n",
        "    use_label_encoder=False,\n",
        "    eval_metric='logloss',\n",
        "    random_state=42\n",
        ")\n",
        "\n",
        "grid_search = GridSearchCV(\n",
        "    estimator=xgb,\n",
        "    param_grid=param_grid,\n",
        "    scoring='f1',  # or 'roc_auc'\n",
        "    cv=3,\n",
        "    verbose=1,\n",
        "    n_jobs=-1\n",
        ")\n",
        "\n",
        "grid_search.fit(X_train_bal, y_train_bal)\n",
        "best_model = grid_search.best_estimator_\n",
        "\n",
        "# Evaluate\n",
        "y_pred = best_model.predict(X_test)\n",
        "y_proba = best_model.predict_proba(X_test)[:, 1]\n",
        "\n",
        "print(\"Best Params:\", grid_search.best_params_)\n",
        "print(classification_report(y_test, y_pred))\n",
        "print(\"ROC AUC Score:\", roc_auc_score(y_test, y_proba))\n",
        "\n",
        "# Save the best model\n",
        "joblib.dump(best_model, \"meteorite_model_xgb_tuned.pkl\")\n"
      ],
      "metadata": {
        "colab": {
          "base_uri": "https://localhost:8080/"
        },
        "id": "2p8X-Sl-FuOg",
        "outputId": "f3f4ed95-bfc1-4f04-cb65-c188c14a4412"
      },
      "execution_count": null,
      "outputs": [
        {
          "output_type": "stream",
          "name": "stdout",
          "text": [
            "Fitting 3 folds for each of 72 candidates, totalling 216 fits\n"
          ]
        },
        {
          "output_type": "stream",
          "name": "stderr",
          "text": [
            "/usr/local/lib/python3.11/dist-packages/xgboost/core.py:158: UserWarning: [00:01:15] WARNING: /workspace/src/learner.cc:740: \n",
            "Parameters: { \"use_label_encoder\" } are not used.\n",
            "\n",
            "  warnings.warn(smsg, UserWarning)\n"
          ]
        },
        {
          "output_type": "stream",
          "name": "stdout",
          "text": [
            "Best Params: {'colsample_bytree': 1.0, 'learning_rate': 0.2, 'max_depth': 7, 'n_estimators': 200, 'subsample': 0.8}\n",
            "              precision    recall  f1-score   support\n",
            "\n",
            "           0       1.00      0.70      0.82      7397\n",
            "           1       0.08      0.97      0.15       212\n",
            "\n",
            "    accuracy                           0.70      7609\n",
            "   macro avg       0.54      0.83      0.49      7609\n",
            "weighted avg       0.97      0.70      0.80      7609\n",
            "\n",
            "ROC AUC Score: 0.9266642391994715\n"
          ]
        },
        {
          "output_type": "execute_result",
          "data": {
            "text/plain": [
              "['meteorite_model_xgb_tuned.pkl']"
            ]
          },
          "metadata": {},
          "execution_count": 26
        }
      ]
    },
    {
      "cell_type": "code",
      "source": [
        "sns.heatmap(confusion_matrix(y_test, y_pred), annot=True, fmt='d', cmap='Blues')\n",
        "plt.title(\"Confusion Matrix\")\n",
        "plt.xlabel(\"Predicted\")\n",
        "plt.ylabel(\"Actual\")\n",
        "plt.show()"
      ],
      "metadata": {
        "colab": {
          "base_uri": "https://localhost:8080/",
          "height": 472
        },
        "id": "5F4Q2CQOF7jK",
        "outputId": "951e025d-6ed5-4729-a43e-41ec74bca186"
      },
      "execution_count": null,
      "outputs": [
        {
          "output_type": "display_data",
          "data": {
            "text/plain": [
              "<Figure size 640x480 with 2 Axes>"
            ],
            "image/png": "[encoded data removed]"
          },
          "metadata": {}
        }
      ]
    },
    {
      "cell_type": "code",
      "source": [
        "importances = pd.Series(best_model.feature_importances_, index=features)\n",
        "importances.sort_values().plot(kind='barh', title=\"Feature Importances\", color='teal')\n",
        "plt.show()"
      ],
      "metadata": {
        "colab": {
          "base_uri": "https://localhost:8080/",
          "height": 452
        },
        "id": "gBIyjKd8F_1-",
        "outputId": "d33e40ec-e80c-42df-cc0f-6adaab62758f"
      },
      "execution_count": null,
      "outputs": [
        {
          "output_type": "display_data",
          "data": {
            "text/plain": [
              "<Figure size 640x480 with 1 Axes>"
            ],
            "image/png": "[encoded data removed]"
          },
          "metadata": {}
        }
      ]
    }
  ]
}